{
 "cells": [
  {
   "cell_type": "code",
   "execution_count": 1,
   "metadata": {},
   "outputs": [],
   "source": [
    "import pickle\n",
    "import numpy as np\n",
    "import matplotlib.pyplot as plt"
   ]
  },
  {
   "cell_type": "code",
   "execution_count": 25,
   "metadata": {},
   "outputs": [
    {
     "name": "stdout",
     "output_type": "stream",
     "text": [
      "['./datasets/low/episode_788308674.pkl']\n"
     ]
    }
   ],
   "source": [
    "import glob\n",
    "\n",
    "# find all the pkl files\n",
    "pkl_files = glob.glob('./datasets/low/*.pkl')\n",
    "print(pkl_files)"
   ]
  },
  {
   "cell_type": "code",
   "execution_count": 27,
   "metadata": {},
   "outputs": [
    {
     "data": {
      "text/plain": [
       "'episode_788308674'"
      ]
     },
     "execution_count": 27,
     "metadata": {},
     "output_type": "execute_result"
    }
   ],
   "source": [
    "import os\n",
    "# get pkl file name\n",
    "os.path.basename(pkl_files[0]).split('.')[0]"
   ]
  },
  {
   "cell_type": "code",
   "execution_count": 9,
   "metadata": {},
   "outputs": [
    {
     "name": "stdout",
     "output_type": "stream",
     "text": [
      "dict_keys(['obj_urdf_files', 'obj_init_poses', 'obj_init_orns', 'samples']) dict_keys(['rgb_image', 'depth_image', 'grasp_poses', 'success_indices', 'failure_indices']) 5\n"
     ]
    }
   ],
   "source": [
    "# read the pickle file\n",
    "with open('datasets/low/episode_788308674.pkl', 'rb') as f:\n",
    "    data = pickle.load(f)\n",
    "print(data.keys(), data['samples'].keys(), len(data['samples']))"
   ]
  },
  {
   "cell_type": "code",
   "execution_count": 10,
   "metadata": {},
   "outputs": [
    {
     "name": "stdout",
     "output_type": "stream",
     "text": [
      "0 1\n",
      "0 2\n",
      "0 3\n"
     ]
    }
   ],
   "source": [
    "all_rgb_images = []\n",
    "all_depth_images = []\n",
    "all_success_grasps = []\n",
    "all_failure_grasps = []\n",
    "\n",
    "# make the pairs of success and failure grasps\n",
    "for i in range(len(data['samples']['success_indices'])):\n",
    "    for j in range(len(data['samples']['failure_indices'])):\n",
    "        success = data['samples']['success_indices'][i]\n",
    "        failure = data['samples']['failure_indices'][j]\n",
    "        \n",
    "        rgb_image = data['samples']['rgb_image']\n",
    "        depth_image = data['samples']['depth_image']\n",
    "        success_grasp = data['samples']['grasp_poses'][success]\n",
    "        failure_grasp = data['samples']['grasp_poses'][failure]\n",
    "        sample = (rgb_image, depth_image, success_grasp, failure_grasp)"
   ]
  },
  {
   "cell_type": "code",
   "execution_count": 14,
   "metadata": {},
   "outputs": [
    {
     "name": "stdout",
     "output_type": "stream",
     "text": [
      "<All keys matched successfully>\n"
     ]
    }
   ],
   "source": [
    "from sam_hq.segment_anything import sam_model_registry, SamAutomaticMaskGenerator, SamPredictor\n",
    "\n",
    "sam_checkpoint = \"assets/sam_hq_vit_b.pth\"\n",
    "model_type = \"vit_b\"\n",
    "\n",
    "device = \"cuda\"\n",
    "\n",
    "sam = sam_model_registry[model_type](checkpoint=sam_checkpoint)\n",
    "sam.to(device=device)\n",
    "\n",
    "mask_generator = SamAutomaticMaskGenerator(sam)\n",
    "masks = mask_generator.generate(data['samples']['rgb_image'])"
   ]
  },
  {
   "cell_type": "code",
   "execution_count": 21,
   "metadata": {},
   "outputs": [
    {
     "data": {
      "text/plain": [
       "<matplotlib.image.AxesImage at 0x7fb3d471aa30>"
      ]
     },
     "execution_count": 21,
     "metadata": {},
     "output_type": "execute_result"
    },
    {
     "data": {
      "image/png": "[encoded data removed]",
      "text/plain": [
       "<Figure size 432x288 with 2 Axes>"
      ]
     },
     "metadata": {
      "needs_background": "light"
     },
     "output_type": "display_data"
    }
   ],
   "source": [
    "seg_mask = np.zeros_like(masks[0]['segmentation'])\n",
    "for mask in masks:\n",
    "    if mask['area'] > int(0.25 * 224 * 224):\n",
    "        continue\n",
    "    seg_mask += mask['segmentation']\n",
    "\n",
    "plt.subplot(1, 2, 1)\n",
    "plt.imshow(data['samples']['rgb_image'])\n",
    "plt.subplot(1, 2, 2)\n",
    "plt.imshow(seg_mask)"
   ]
  },
  {
   "cell_type": "code",
   "execution_count": 13,
   "metadata": {},
   "outputs": [
    {
     "name": "stdout",
     "output_type": "stream",
     "text": [
      "[0.0, 0.0, 223.0, 223.0] (224, 224) 45503\n",
      "[134.0, 120.0, 18.0, 12.0] (224, 224) 168\n",
      "[148.0, 192.0, 20.0, 10.0] (224, 224) 134\n",
      "[88.0, 121.0, 37.0, 27.0] (224, 224) 706\n",
      "[135.0, 112.0, 50.0, 98.0] (224, 224) 1354\n",
      "[143.0, 131.0, 34.0, 45.0] (224, 224) 610\n",
      "[135.0, 154.0, 50.0, 56.0] (224, 224) 1344\n"
     ]
    }
   ],
   "source": [
    "for mask in masks:\n",
    "    print(mask['bbox'], mask['segmentation'].shape, mask['area'])    "
   ]
  },
  {
   "cell_type": "code",
   "execution_count": 24,
   "metadata": {},
   "outputs": [
    {
     "data": {
      "text/plain": [
       "<matplotlib.image.AxesImage at 0x7fb3d435b310>"
      ]
     },
     "execution_count": 24,
     "metadata": {},
     "output_type": "execute_result"
    },
    {
     "data": {
      "image/png": "[encoded data removed]",
      "text/plain": [
       "<Figure size 432x288 with 1 Axes>"
      ]
     },
     "metadata": {
      "needs_background": "light"
     },
     "output_type": "display_data"
    }
   ],
   "source": [
    "def generate_gaussian_heatmap(center, shape, sigma):\n",
    "    x = np.arange(0, shape[1], 1, float)  # 从0到width的数列\n",
    "    y = np.arange(0, shape[0], 1, float)[:, np.newaxis]  # 从0到height的数列\n",
    "    x0, y0 = center\n",
    "    heatmap = np.exp(-4*np.log(2) * ((x - x0)**2 + (y - y0)**2) / sigma**2)\n",
    "    return heatmap\n",
    "\n",
    "def generate_heatmap_image(image_shape, boxes, sigma=10):\n",
    "    heatmap = np.zeros(image_shape, dtype=np.float32)\n",
    "    \n",
    "    for box in boxes:\n",
    "        x1, y1, w, h = box\n",
    "        center = (x1 + w / 2, y1 + h / 2)  # 计算中心点坐标\n",
    "        heatmap += generate_gaussian_heatmap(center, image_shape, sigma)\n",
    "    \n",
    "    heatmap = np.clip(heatmap, 0, 1)\n",
    "    return heatmap\n",
    "\n",
    "# 示例图像形状\n",
    "image_shape = (224, 224)\n",
    "\n",
    "# 给定的点\n",
    "points = []\n",
    "for mask in masks:\n",
    "    x, y, w, h = np.array(mask['bbox']).astype(int)\n",
    "    points.append([x,y,w,h])\n",
    "\n",
    "# 生成热力图\n",
    "heatmap = generate_heatmap_image(image_shape, points, sigma=10)\n",
    "plt.imshow(heatmap)"
   ]
  },
  {
   "cell_type": "code",
   "execution_count": null,
   "metadata": {},
   "outputs": [],
   "source": []
  },
  {
   "cell_type": "code",
   "execution_count": null,
   "metadata": {},
   "outputs": [],
   "source": []
  },
  {
   "cell_type": "code",
   "execution_count": null,
   "metadata": {},
   "outputs": [],
   "source": []
  },
  {
   "cell_type": "code",
   "execution_count": null,
   "metadata": {},
   "outputs": [],
   "source": []
  },
  {
   "cell_type": "code",
   "execution_count": 7,
   "metadata": {},
   "outputs": [
    {
     "data": {
      "text/plain": [
       "<matplotlib.image.AxesImage at 0x7fb47c740c10>"
      ]
     },
     "execution_count": 7,
     "metadata": {},
     "output_type": "execute_result"
    },
    {
     "data": {
      "image/png": "[encoded data removed]",
      "text/plain": [
       "<Figure size 432x288 with 1 Axes>"
      ]
     },
     "metadata": {
      "needs_background": "light"
     },
     "output_type": "display_data"
    }
   ],
   "source": [
    "plt.imshow(data['samples']['rgb_image'])"
   ]
  },
  {
   "cell_type": "code",
   "execution_count": null,
   "metadata": {},
   "outputs": [],
   "source": []
  }
 ],
 "metadata": {
  "kernelspec": {
   "display_name": "vlg",
   "language": "python",
   "name": "python3"
  },
  "language_info": {
   "codemirror_mode": {
    "name": "ipython",
    "version": 3
   },
   "file_extension": ".py",
   "mimetype": "text/x-python",
   "name": "python",
   "nbconvert_exporter": "python",
   "pygments_lexer": "ipython3",
   "version": "3.8.19"
  }
 },
 "nbformat": 4,
 "nbformat_minor": 2
}
